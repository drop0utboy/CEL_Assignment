{
 "cells": [
  {
   "cell_type": "code",
   "execution_count": 1,
   "metadata": {},
   "outputs": [],
   "source": [
    "import time\n",
    "import os"
   ]
  },
  {
   "cell_type": "code",
   "execution_count": null,
   "metadata": {},
   "outputs": [],
   "source": [
    "def load_filenames(pathname):\n",
    "    #빈 리스트 생성성\n",
    "    file_list = []\n",
    "    #_vehicle.csv로 끝나는 파일만을 리스트에 담기\n",
    "    for filename in os.listdir(pathname):\n",
    "        if filename.endswith('_vehicle.csv'):\n",
    "            file_list.append(os.path.join(pathname, filename))\n",
    "\n",
    "    # / 로 \n",
    "    file_list.sort(key=lambda x: x.split('/')[-1])\n",
    "    '''\n",
    "    폴더명을 입력하면 폴더에 저장되어 있는 csv 파일들의 상대경로를 리스트 타입으로 반환함  \n",
    "\n",
    "        Parameters:\n",
    "            pathname (str): 데이터 파일이 들어있는 폴더명\n",
    "                            데이터 이름은 날짜_vehicle.csv 으로 구성됨\n",
    "                            단, 해당 폴더에는 여러 csv파일들이 존재할 수 있고 csv파일이 아닌 다른 파일들은 무시함\n",
    "                            파일명 예시 - 20200804_vehicle.csv\n",
    "\n",
    "        Returns:\n",
    "            file_path_list (str): 폴더에 들어있는 csv 파일들의 상대경로를 반환 \n",
    "                                  값은 날짜를 기반으로 정렬되어 반환된다. \n",
    "            \n",
    "            ['dataset/20200804_vehicle.csv', 'dataset/20200805_vehicle.csv', 'dataset/20200806_vehicle.csv', 'dataset/20200807_vehicle.csv']\n",
    "\n",
    "        Examples:\n",
    "            >>> load_filenames(\"dataset\")[:2]\n",
    "            ['dataset/20200804_vehicle.csv', 'dataset/20200805_vehicle.csv']\n",
    "\n",
    "    '''\n",
    "    \n",
    "    return None"
   ]
  },
  {
   "cell_type": "code",
   "execution_count": null,
   "metadata": {},
   "outputs": [],
   "source": [
    "import time\n",
    "def load_filenames(pathname):\n",
    "    '''\n",
    "    폴더명을 입력하면 폴더에 저장되어 있는 csv 파일들의 상대경로를 리스트 타입으로 반환함  \n",
    "\n",
    "        Parameters:\n",
    "            pathname (str): 데이터 파일이 들어있는 폴더명\n",
    "                            데이터 이름은 날짜_vehicle.csv 으로 구성됨\n",
    "                            단, 해당 폴더에는 여러 csv파일들이 존재할 수 있고 csv파일이 아닌 다른 파일들은 무시함\n",
    "                            파일명 예시 - 20200804_vehicle.csv\n",
    "\n",
    "        Returns:\n",
    "            file_path_list (str): 폴더에 들어있는 csv 파일들의 상대경로를 반환 \n",
    "                                  값은 날짜를 기반으로 정렬되어 반환된다. \n",
    "            \n",
    "            ['dataset/20200804_vehicle.csv', 'dataset/20200805_vehicle.csv', 'dataset/20200806_vehicle.csv', 'dataset/20200807_vehicle.csv']\n",
    "\n",
    "        Examples:\n",
    "            >>> load_filenames(\"dataset\")[:2]\n",
    "            ['dataset/20200804_vehicle.csv', 'dataset/20200805_vehicle.csv']\n",
    "\n",
    "    '''\n",
    "    \n",
    "    return None"
   ]
  }
 ],
 "metadata": {
  "kernelspec": {
   "display_name": "Python 3",
   "language": "python",
   "name": "python3"
  },
  "language_info": {
   "codemirror_mode": {
    "name": "ipython",
    "version": 3
   },
   "file_extension": ".py",
   "mimetype": "text/x-python",
   "name": "python",
   "nbconvert_exporter": "python",
   "pygments_lexer": "ipython3",
   "version": "3.13.1"
  }
 },
 "nbformat": 4,
 "nbformat_minor": 2
}
